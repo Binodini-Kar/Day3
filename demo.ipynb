{
 "cells": [
  {
   "cell_type": "code",
   "execution_count": 2,
   "metadata": {},
   "outputs": [
    {
     "name": "stdout",
     "output_type": "stream",
     "text": [
      "\n",
      "Spiral Matrix:\n",
      " 1  2  3  4\n",
      "12 13 14  5\n",
      "11 16 15  6\n",
      "10  9  8  7\n"
     ]
    }
   ],
   "source": [
    "def generate_spiral(n):\n",
    "    \"\"\"\n",
    "    Generates an n x n spiral matrix.\n",
    "    \"\"\"\n",
    "    # Create an n x n matrix filled with 0s\n",
    "    matrix = [[0] * n for _ in range(n)]\n",
    "    \n",
    "    # Initialize boundaries\n",
    "    top, bottom = 0, n - 1\n",
    "    left, right = 0, n - 1\n",
    "    current_number = 1  # Start from 1\n",
    "    \n",
    "    while top <= bottom and left <= right:\n",
    "        # Fill the top row\n",
    "        for i in range(left, right + 1):\n",
    "            matrix[top][i] = current_number\n",
    "            current_number += 1\n",
    "        top += 1\n",
    "        \n",
    "        # Fill the right column\n",
    "        for i in range(top, bottom + 1):\n",
    "            matrix[i][right] = current_number\n",
    "            current_number += 1\n",
    "        right -= 1\n",
    "        \n",
    "        # Fill the bottom row\n",
    "        if top <= bottom:\n",
    "            for i in range(right, left - 1, -1):\n",
    "                matrix[bottom][i] = current_number\n",
    "                current_number += 1\n",
    "            bottom -= 1\n",
    "        \n",
    "        # Fill the left column\n",
    "        if left <= right:\n",
    "            for i in range(bottom, top - 1, -1):\n",
    "                matrix[i][left] = current_number\n",
    "                current_number += 1\n",
    "            left += 1\n",
    "    \n",
    "    return matrix\n",
    "\n",
    "\n",
    "def display_matrix(matrix):\n",
    "    \"\"\"\n",
    "    Display the matrix in a formatted way.\n",
    "    \"\"\"\n",
    "    for row in matrix:\n",
    "        print(\" \".join(f\"{num:2}\" for num in row))\n",
    "\n",
    "\n",
    "# Main program\n",
    "n = int(input(\"Enter the size of the spiral matrix (n x n): \"))\n",
    "if n <= 0:\n",
    "    print(\"Please enter a positive integer greater than 0.\")\n",
    "else:\n",
    "    spiral_matrix = generate_spiral(n)\n",
    "    print(\"\\nSpiral Matrix:\")\n",
    "    display_matrix(spiral_matrix)\n"
   ]
  }
 ],
 "metadata": {
  "kernelspec": {
   "display_name": "Python 3",
   "language": "python",
   "name": "python3"
  },
  "language_info": {
   "codemirror_mode": {
    "name": "ipython",
    "version": 3
   },
   "file_extension": ".py",
   "mimetype": "text/x-python",
   "name": "python",
   "nbconvert_exporter": "python",
   "pygments_lexer": "ipython3",
   "version": "3.12.2"
  }
 },
 "nbformat": 4,
 "nbformat_minor": 2
}
